{
  "nbformat": 4,
  "nbformat_minor": 0,
  "metadata": {
    "colab": {
      "name": "nflbowl_2021",
      "provenance": [],
      "collapsed_sections": [],
      "authorship_tag": "ABX9TyP8vYTJbF84g9idHywxFJpz",
      "include_colab_link": true
    },
    "kernelspec": {
      "name": "python3",
      "display_name": "Python 3"
    }
  },
  "cells": [
    {
      "cell_type": "markdown",
      "metadata": {
        "id": "view-in-github",
        "colab_type": "text"
      },
      "source": [
        "<a href=\"https://colab.research.google.com/github/andrewyyip/stuff/blob/master/nflbowl_2021_final.ipynb\" target=\"_parent\"><img src=\"https://colab.research.google.com/assets/colab-badge.svg\" alt=\"Open In Colab\"/></a>"
      ]
    },
    {
      "cell_type": "code",
      "metadata": {
        "id": "A_cERxaNV4Hb",
        "colab": {
          "base_uri": "https://localhost:8080/"
        },
        "outputId": "3608aa22-ef91-4f57-dc84-0d27b53a597f"
      },
      "source": [
        "from google.colab import drive\n",
        "drive.mount('/content/gdrive')"
      ],
      "execution_count": 1,
      "outputs": [
        {
          "output_type": "stream",
          "text": [
            "Drive already mounted at /content/gdrive; to attempt to forcibly remount, call drive.mount(\"/content/gdrive\", force_remount=True).\n"
          ],
          "name": "stdout"
        }
      ]
    },
    {
      "cell_type": "code",
      "metadata": {
        "id": "wIUj6HbBWaQZ"
      },
      "source": [
        "#import packages\n",
        "\n",
        "import pandas as pd\n",
        "pd.set_option('display.max_rows', 500)\n",
        "pd.set_option('display.max_columns', 500)\n",
        "pd.set_option('display.width', 200)\n",
        "\n",
        "import matplotlib.pyplot as plt\n",
        "import matplotlib.patches as patches\n",
        "from matplotlib.lines import Line2D\n",
        "plt.style.use('ggplot')\n",
        "\n",
        "import numpy as np\n",
        "import seaborn as sns"
      ],
      "execution_count": 2,
      "outputs": []
    },
    {
      "cell_type": "code",
      "metadata": {
        "id": "yWzed_vxWnLj",
        "colab": {
          "base_uri": "https://localhost:8080/"
        },
        "outputId": "2f5e5e27-fd4e-46ae-8fb3-1aea240aafa0"
      },
      "source": [
        "#read files\n",
        "\n",
        "df_games = pd.read_csv('/content/gdrive/My Drive/NFL/NFLbowl-2021/data/games.csv')\n",
        "df_players = pd.read_csv('/content/gdrive/My Drive/NFL/NFLbowl-2021/data/players.csv')\n",
        "df_plays = pd.read_csv('/content/gdrive/My Drive/NFL/NFLbowl-2021/data/plays.csv')\n",
        "df_week1 = pd.read_csv('/content/gdrive/My Drive/NFL/NFLbowl-2021/data/week1_merged.csv')\n",
        "df_targets = pd.read_csv('/content/gdrive/My Drive/NFL/NFLbowl-2021/data/targetedReceiver.csv')\n",
        "df_covers = pd.read_csv('/content/gdrive/My Drive/NFL/NFLbowl-2021/data/coverages_week1.csv')\n",
        "\n",
        "#change column names\n",
        "df_games.columns = [x.lower() for x in df_games.columns]\n",
        "df_players.columns = [x.lower() for x in df_players.columns]\n",
        "df_plays.columns = [x.lower() for x in df_plays.columns]\n",
        "df_week1.columns = [x.lower() for x in df_week1.columns]\n",
        "df_targets.columns = [x.lower() for x in df_targets.columns]\n",
        "df_covers.columns = [x.lower() for x in df_covers.columns]"
      ],
      "execution_count": 3,
      "outputs": [
        {
          "output_type": "stream",
          "text": [
            "/usr/local/lib/python3.6/dist-packages/IPython/core/interactiveshell.py:2718: DtypeWarning: Columns (42,43) have mixed types.Specify dtype option on import or set low_memory=False.\n",
            "  interactivity=interactivity, compiler=compiler, result=result)\n"
          ],
          "name": "stderr"
        }
      ]
    },
    {
      "cell_type": "markdown",
      "metadata": {
        "id": "kbhMbov7Mjn-"
      },
      "source": [
        "## Pitch Control / Ball Influence\n",
        "\n",
        "In soccer (or actual football), the idea of pitch control presented by Javier Fernandez and Luke Bornn in the 2019 paper \"Wide Open Spaces\" has become increasingly popular. [This post by Robert Hickman](https://www.robert-hickman.eu/post/fall_back_in_to_space/) does a great job of explaining how it works, and much of the work done for this model is based on [Will Thompson's work here](https://colab.research.google.com/drive/1V75UgfJEfCWgbfxnG4OuB1WpvqahUJPU). \n",
        "Pitch control gives us a way to see what areas of the field a team has more 'influence' over, and in turn where a team should want the ball to be. Let's apply this idea in an NFL context to see how passes perform when thrown into areas of different influences.\n",
        "\n",
        "We will use ball influence / pitch control as a feature in our model, along with the x y coordinates of the players and football, to predict if a pass play will be complete or not. Since we only have coverages for week 1, we'll use week 1 for our model for now."
      ]
    },
    {
      "cell_type": "code",
      "metadata": {
        "id": "2C_hmAQP7nbq"
      },
      "source": [
        "xx,yy = np.meshgrid(np.linspace(0,120,121),np.linspace(0,54,55))\n",
        "\n",
        "def ball_influence_f(player_data, football_data):\n",
        "  #x y coordinates of players\n",
        "  x = player_data.x.values[0]\n",
        "  y = player_data.y.values[0]\n",
        "\n",
        "  #x y coordinates of the football\n",
        "  ballx = football_data.x.values[0]\n",
        "  bally = football_data.y.values[0]\n",
        "\n",
        "  #speed of the players\n",
        "  s = player_data.s.values[0]\n",
        "\n",
        "  #angle of the players relative to the y axis as laid out the documentation\n",
        "  theta = (player_data.dir.values[0]) * np.pi / 180\n",
        "\n",
        "  #x and y components of the speed based on the angle theta\n",
        "  sx = s * np.sin(theta)\n",
        "  sy = s * np.cos(theta)\n",
        "\n",
        "  #speed vector from the x and y components\n",
        "  sxy = [sx, sy]\n",
        "\n",
        "  #mean value of the distribution as laid out in Hickman's post, as well as Wide Open Spaces\n",
        "  mu = np.array([x,y]) + np.array(sxy) * 0.5\n",
        "\n",
        "  #rotation matrix\n",
        "  Rot = np.array([[np.sin(theta), -np.cos(theta)],[np.cos(theta),np.sin(theta)]])\n",
        "\n",
        "  #speed ratio based on 14.2 being the maximum possible speed of a player\n",
        "  Srat = (s / 14.2) ** 2\n",
        "\n",
        "  #distance between a player and the football\n",
        "  d = np.linalg.norm(np.array([x,y]) - np.array([ballx, bally]))\n",
        "\n",
        "  #radius of ball influence is 10, unless d <= value\n",
        "  if d <= 18:\n",
        "    Ri = 4 + d**3/ (18**3/6)\n",
        "  else:\n",
        "    Ri = 10\n",
        "\n",
        "  S = np.array([[(1 + Srat) * Ri / 2, 0], [0, (1 - Srat) * Ri / 2]])\n",
        "  Sigma = np.matmul(Rot,S)\n",
        "  Sigma = np.matmul(Sigma,S)\n",
        "  Sigma = np.matmul(Sigma,np.linalg.inv(Rot))\n",
        "  from scipy.stats import multivariate_normal as mvn\n",
        "  #return distribution of players influence\n",
        "  return (mvn.pdf(np.c_[xx.flatten(), yy.flatten()], mu, Sigma) / mvn.pdf([x, y], mu, Sigma)).reshape(55,121)\n"
      ],
      "execution_count": 4,
      "outputs": []
    },
    {
      "cell_type": "code",
      "metadata": {
        "id": "Q1cVCscJtFxy"
      },
      "source": [
        "#some plays are flagged with only some of these labels, so this is a list of the pass arrived labels possible we will use the first \n",
        "#occurence of one of these labels in our model\n",
        "ball_arrived = ['pass_arrived', 'pass_outcome_caught', 'pass_outcome_incomplete', 'pass_outcome_interception', \n",
        "                'pass_tipped', 'pass_outcome_touchdown', 'pass_shovel']"
      ],
      "execution_count": 5,
      "outputs": []
    },
    {
      "cell_type": "code",
      "metadata": {
        "id": "CuCmcmil9076"
      },
      "source": [
        "#make all the x coordinates go in the same direction\n",
        "def x_mod_function(row):\n",
        "  if row.playdirection == 'left':\n",
        "    result = row.absoluteyardlinenumber - row.x\n",
        "\n",
        "  elif row.playdirection == 'right':\n",
        "    result = row.x - row.absoluteyardlinenumber\n",
        "\n",
        "  return result"
      ],
      "execution_count": 6,
      "outputs": []
    },
    {
      "cell_type": "code",
      "metadata": {
        "id": "Oje_mMyjnvVO"
      },
      "source": [
        "#merge target list with player names and positions\n",
        "df_targets = pd.merge(df_targets, df_players[['nflid', 'position', 'displayname']], how = 'left', left_on = 'targetnflid', right_on = 'nflid')"
      ],
      "execution_count": 7,
      "outputs": []
    },
    {
      "cell_type": "code",
      "metadata": {
        "id": "4-ZgSmshoGEr"
      },
      "source": [
        "#get the frames where the pass arrived for all the plays in week 1.\n",
        "df_ball_arrived = df_week1[df_week1.event.isin(ball_arrived)]\n",
        "\n",
        "#Get the tracking data for the football\n",
        "football = df_ball_arrived[df_ball_arrived.displayname == 'Football']\n",
        "\n",
        "#group the plays by gameid and play id, and get the lowest numbered frame in the case where a play has multiple instances of ball_arrived labels\n",
        "#ie pass_arrived at frame 20, pass_outcome_caught at frame 23, we would use frame 20\n",
        "football = football.groupby(['gameid', 'playid'])[['frameid', 'x', 'y', 'playdirection', 'numberofpassrushers']].agg({'frameid':'min', 'x':'mean', 'y':'mean', 'playdirection':'max', 'numberofpassrushers':'max'}).reset_index()\n",
        "\n",
        "#merge our play data with our football data from week 1\n",
        "data = pd.merge(df_plays[['gameid', 'playid', 'passresult', 'absoluteyardlinenumber']], football, how = 'inner', on = ['gameid', 'playid'])\n",
        "\n",
        "#appply our xmod function, making all of our x coordinates face the same direction\n",
        "data['xmod'] = data.apply(x_mod_function, axis = 1)\n",
        "\n"
      ],
      "execution_count": 8,
      "outputs": []
    },
    {
      "cell_type": "code",
      "metadata": {
        "id": "UXGcwLTuoGWv"
      },
      "source": [
        "#function to get the influence value at a given xy coordinate\n",
        "def dataframe_z_function(row):  \n",
        "  data = df_week1[(df_week1.gameid == row.gameid) & (df_week1.playid == row.playid) & (df_week1.event == 'pass_forward')]\n",
        "  o = data[data.offdef == 'offense']\n",
        "  d = data[data.offdef == 'defense']\n",
        "  f = data[data.offdef == 'football']\n",
        "\n",
        "  c_offense = np.zeros(121*55).reshape(55,121)\n",
        "  c_defense = np.zeros(121*55).reshape(55,121)\n",
        "  xx,yy = np.meshgrid(np.linspace(0,120,121),np.linspace(0,54,55))\n",
        "\n",
        "  for player in o.displayname.value_counts().index:\n",
        "    c_offense += ball_influence_f(o[(o.displayname == player)], f)\n",
        "\n",
        "  for player in d.displayname.value_counts().index:\n",
        "    c_defense += ball_influence_f(d[d.displayname == player], f)\n",
        "\n",
        "  z = 1 / (1 + np.exp(-c_offense + c_defense))\n",
        "\n",
        "  x = int(row.x)\n",
        "  y = int(row.y)\n",
        "\n",
        "  #if the y value is out of bounds, use the max y of either 54 or 0\n",
        "  if y > 54:\n",
        "    y = 54\n",
        "  if y < 0:\n",
        "    y = 0\n",
        "  #if the x value is out of bounds, use the max x of either 120 or 0\n",
        "  if x > 120:\n",
        "    x = 120\n",
        "  if x < 0:\n",
        "    x = 0\n",
        "  return z[y,x]  "
      ],
      "execution_count": 9,
      "outputs": []
    },
    {
      "cell_type": "code",
      "metadata": {
        "id": "vqIr2JUXnvqC"
      },
      "source": [
        "#get the ball influence value (z) at the location the ball is thrown at\n",
        "z = data.apply(dataframe_z_function, axis = 1)"
      ],
      "execution_count": 10,
      "outputs": []
    },
    {
      "cell_type": "code",
      "metadata": {
        "id": "_48RestdnvwE"
      },
      "source": [
        "data['z'] = z"
      ],
      "execution_count": 11,
      "outputs": []
    },
    {
      "cell_type": "code",
      "metadata": {
        "id": "zHJgYjUTz5JH"
      },
      "source": [
        "#merge our data with the target data\n",
        "data = pd.merge(data, df_targets[['gameid', 'playid', 'position', 'displayname']], how = 'left', on = ['gameid', 'playid'])"
      ],
      "execution_count": 12,
      "outputs": []
    },
    {
      "cell_type": "code",
      "metadata": {
        "id": "7S5iHxFr2VSI"
      },
      "source": [
        "#make the pass result 1 if C, 0 if I or INT\n",
        "data['result'] = data.passresult.apply(lambda x: 1 if x == 'C' else 0)\n",
        "data.dropna(inplace=True)"
      ],
      "execution_count": 13,
      "outputs": []
    },
    {
      "cell_type": "markdown",
      "metadata": {
        "id": "mtVAhgOaNhME"
      },
      "source": [
        "## Random Forest Classifier Model"
      ]
    },
    {
      "cell_type": "code",
      "metadata": {
        "colab": {
          "base_uri": "https://localhost:8080/"
        },
        "id": "j2sFgqHxPaHH",
        "outputId": "cfd0d8a7-64c8-45f2-e9cd-46c2d3453b98"
      },
      "source": [
        "#random forest classifier to predict a pass as complete or not\n",
        "#use xy coordinates and ball influence value (z) as features\n",
        "\n",
        "from sklearn.model_selection import train_test_split\n",
        "from sklearn.ensemble import RandomForestClassifier\n",
        "\n",
        "X = data[['xmod', 'y', 'z']]\n",
        "y = data['result']\n",
        "\n",
        "X_train, X_test, y_train, y_test = train_test_split(X, y, test_size = 0.3, random_state = 12)\n",
        "\n",
        "model = RandomForestClassifier(random_state = 19)\n",
        "\n",
        "model.fit(X_train, y_train)\n",
        "y_pred = model.predict(X_test)\n",
        "y_pred_proba = model.predict_proba(X_test)\n",
        "df_results = pd.DataFrame({'y_test': y_test, 'y_pred':y_pred})\n",
        "from sklearn.metrics import accuracy_score\n",
        "\n",
        "print('Accuracy Score: %.2f' % accuracy_score(y_test, y_pred))"
      ],
      "execution_count": 14,
      "outputs": [
        {
          "output_type": "stream",
          "text": [
            "Accuracy Score: 0.76\n"
          ],
          "name": "stdout"
        }
      ]
    },
    {
      "cell_type": "code",
      "metadata": {
        "colab": {
          "base_uri": "https://localhost:8080/",
          "height": 299
        },
        "id": "SShP2G9AQmL-",
        "outputId": "5b64fc9e-dcc0-42db-9bcd-f201cfd9bbab"
      },
      "source": [
        "#quick look at feautre importance in our model\n",
        "plt.bar(['x', 'y', 'z'], model.feature_importances_, width = 0.3)\n",
        "plt.title('Feature Importance')\n",
        "plt.xlabel('Features')\n",
        "plt.ylabel('Importance')\n",
        "plt.show()"
      ],
      "execution_count": 15,
      "outputs": [
        {
          "output_type": "display_data",
          "data": {
            "image/png": "[encoded data removed]",
            "text/plain": [
              "<Figure size 432x288 with 1 Axes>"
            ]
          },
          "metadata": {
            "tags": []
          }
        }
      ]
    },
    {
      "cell_type": "markdown",
      "metadata": {
        "id": "jNhAjv5Dylfj"
      },
      "source": [
        "The model ended up using the ball influence (z) value as the most important feature in making it's predictions."
      ]
    },
    {
      "cell_type": "code",
      "metadata": {
        "colab": {
          "base_uri": "https://localhost:8080/",
          "height": 299
        },
        "id": "TyW_KFRSPaHK",
        "outputId": "be6148bb-80d0-47fb-edf9-b718e8e92656"
      },
      "source": [
        "#ROC plot\n",
        "from sklearn.metrics import roc_curve, auc\n",
        "\n",
        "fpr, tpr, threshold = roc_curve(y_test, y_pred_proba[:,1])\n",
        "roc_auc = auc(fpr, tpr)\n",
        "\n",
        "# method I: plt\n",
        "import matplotlib.pyplot as plt\n",
        "plt.title('Receiver Operating Characteristic')\n",
        "plt.plot(fpr, tpr, 'b', label = 'AUC = %0.2f' % roc_auc)\n",
        "plt.legend(loc = 'lower right')\n",
        "plt.plot([0, 1], [0, 1],'r--')\n",
        "plt.xlim([0, 1])\n",
        "plt.ylim([0, 1])\n",
        "plt.ylabel('True Positive Rate')\n",
        "plt.xlabel('False Positive Rate')\n",
        "plt.show()"
      ],
      "execution_count": 16,
      "outputs": [
        {
          "output_type": "display_data",
          "data": {
            "image/png": "[encoded data removed]",
            "text/plain": [
              "<Figure size 432x288 with 1 Axes>"
            ]
          },
          "metadata": {
            "tags": []
          }
        }
      ]
    },
    {
      "cell_type": "markdown",
      "metadata": {
        "id": "z8rHJvAdzYTZ"
      },
      "source": [
        "Our model looks like it does better than random guesses with an area under the curve of 0.82 (randomly guessing complete or not complete would produce an AUC of 0.5, represented here by the red line)."
      ]
    },
    {
      "cell_type": "code",
      "metadata": {
        "colab": {
          "base_uri": "https://localhost:8080/",
          "height": 354
        },
        "id": "ERzNn8V8PaHK",
        "outputId": "4576b642-42e4-4d2a-f94d-a4d25ebe91fa"
      },
      "source": [
        "from sklearn.metrics import confusion_matrix\n",
        "import seaborn as sns\n",
        "\n",
        "#create confusion matrix\n",
        "cm = confusion_matrix(y_test, y_pred)\n",
        "# Normalise\n",
        "cm_normal = cm.astype('float') / cm.sum(axis=1)[:, np.newaxis]\n",
        "\n",
        "#plot confusion matrix\n",
        "plt.figure(figsize = (7,5))\n",
        "sns.heatmap(cm_normal, cmap = 'Blues', annot=True)\n",
        "plt.ylabel('Actual')\n",
        "plt.xlabel('Predicted')\n",
        "plt.title('Confusion Matrix')\n",
        "plt.show()"
      ],
      "execution_count": 17,
      "outputs": [
        {
          "output_type": "display_data",
          "data": {
            "image/png": "[encoded data removed]",
            "text/plain": [
              "<Figure size 504x360 with 2 Axes>"
            ]
          },
          "metadata": {
            "tags": []
          }
        }
      ]
    },
    {
      "cell_type": "markdown",
      "metadata": {
        "id": "_suqscTM0JBh"
      },
      "source": [
        "Our model looks like it does well with positive cases, and could use some work with negative ones. "
      ]
    },
    {
      "cell_type": "code",
      "metadata": {
        "id": "sET7DxvQ_TxH"
      },
      "source": [
        "data['predict'] = model.predict_proba(X)[:,1]"
      ],
      "execution_count": 18,
      "outputs": []
    },
    {
      "cell_type": "markdown",
      "metadata": {
        "id": "0ZjSddM11Buc"
      },
      "source": [
        "## Defensive Coverage by Ball Influence\n",
        "\n",
        "Now that we have a model that uses the influence value (z) as a major feature in it's predictions, let's take a closer look at the z value to see if we can gain any additional insights. Let's plot the average z value across the field as a heat map to see the pros and cons of a variety of NFL defensive coverages and see if any patterns emerge."
      ]
    },
    {
      "cell_type": "code",
      "metadata": {
        "id": "FsxBFVMaEHXH"
      },
      "source": [
        "#merge coverage labels into tracking data\n",
        "df_week1 = pd.merge(df_week1, df_covers, how = 'left', on = ['gameid', 'playid'])"
      ],
      "execution_count": 19,
      "outputs": []
    },
    {
      "cell_type": "code",
      "metadata": {
        "id": "VL2lsj9-NvWT"
      },
      "source": [
        "#adjust the player direction angle based on the play going left or right\n",
        "df_week1['dirmod'] = df_week1.apply(lambda x: -x.dir if x.playdirection == 'left' else x.dir, axis = 1)"
      ],
      "execution_count": 20,
      "outputs": []
    },
    {
      "cell_type": "code",
      "metadata": {
        "id": "sPtZ_GguPMi9"
      },
      "source": [
        "#ball influence function using adjusted x values\n",
        "def ball_influence_xmod_f(player_data, football_data):\n",
        "  x = player_data.xmod.values[0] + 50\n",
        "  y = player_data.y.values[0]\n",
        "  ballx = football_data.xmod.values[0] + 50\n",
        "  bally = football_data.y.values[0]\n",
        "  s = player_data.s.values[0]\n",
        "  theta = (player_data.dirmod.values[0]) * np.pi / 180\n",
        "  sx = s * np.sin(theta)\n",
        "  sy = s * np.cos(theta)\n",
        "  sxy = [sx, sy]\n",
        "  mu = np.array([x,y]) + np.array(sxy) * 0.5\n",
        "  Rot = np.array([[np.sin(theta), -np.cos(theta)],[np.cos(theta),np.sin(theta)]])\n",
        "\n",
        "  Srat = (s / 13) ** 2\n",
        "  d = np.linalg.norm(np.array([x,y]) - np.array([ballx, bally]))\n",
        "  #radius of ball influence is 10, unless d <= value\n",
        "  if d <= 18:\n",
        "    Ri = 4 + d**3/ (18**3/6)\n",
        "  else:\n",
        "    Ri = 10\n",
        "  #Ri = np.minimum(4 + Ri**3/ (18**3/6),10) \n",
        "  S = np.array([[(1 + Srat) * Ri / 2, 0], [0, (1 - Srat) * Ri / 2]])\n",
        "  Sigma = np.matmul(Rot,S)\n",
        "  Sigma = np.matmul(Sigma,S)\n",
        "  Sigma = np.matmul(Sigma,np.linalg.inv(Rot))\n",
        "  from scipy.stats import multivariate_normal as mvn\n",
        "  return (mvn.pdf(np.c_[xx.flatten(), yy.flatten()], mu, Sigma) / mvn.pdf([x, y], mu, Sigma)).reshape(55,121)"
      ],
      "execution_count": 21,
      "outputs": []
    },
    {
      "cell_type": "code",
      "metadata": {
        "id": "HINtR2Q5GiB6"
      },
      "source": [
        "#pitch control function for entire field\n",
        "def z_function(row):  \n",
        "  data = df_week1[(df_week1.gameid == row.gameid) & (df_week1.playid == row.playid) & (df_week1.event.isin(ball_arrived))]\n",
        "  o = data[data.offdef == 'offense']\n",
        "  d = data[data.offdef == 'defense']\n",
        "  f = data[data.offdef == 'football']\n",
        "\n",
        "  c_offense = np.zeros(121*55).reshape(55,121)\n",
        "  c_defense = np.zeros(121*55).reshape(55,121)\n",
        "  xx,yy = np.meshgrid(np.linspace(0,120,121),np.linspace(0,54,55))\n",
        "\n",
        "  for player in o.displayname.value_counts().index:\n",
        "    c_offense += ball_influence_xmod_f(o[(o.displayname == player)], f)\n",
        "\n",
        "  for player in d.displayname.value_counts().index:\n",
        "    c_defense += ball_influence_xmod_f(d[d.displayname == player], f)\n",
        "\n",
        "  z = 1 / (1 + np.exp(-c_offense + c_defense))\n",
        "\n",
        "  return np.array(z, dtype = 'float')"
      ],
      "execution_count": 22,
      "outputs": []
    },
    {
      "cell_type": "code",
      "metadata": {
        "id": "B-09YQh6GWMs"
      },
      "source": [
        "#apply the z_function to get the pitch control for each play in week 1\n",
        "df_covers['z'] = df_covers.apply(z_function, axis = 1)\n",
        "df_covers['z'] = df_covers.z.apply(lambda x: np.nan if np.isnan(np.sum(x)) else x)\n",
        "df_covers.dropna(inplace=True)"
      ],
      "execution_count": 23,
      "outputs": []
    },
    {
      "cell_type": "code",
      "metadata": {
        "colab": {
          "base_uri": "https://localhost:8080/",
          "height": 609
        },
        "id": "tvRjCmYVYNJn",
        "outputId": "080be79e-8ee0-4387-bc3f-7ccccb770852"
      },
      "source": [
        "#plot a the average pitch control as a heatmap grouped by defensive coverage formation\n",
        "plt.figure(figsize = (16,10))\n",
        "\n",
        "plt.subplot(2,2,1)\n",
        "plt.contourf(xx, yy, df_covers[df_covers.coverage == 'Cover 3 Zone'].z.sum() / len(df_covers[df_covers.coverage == 'Cover 3 Zone']), levels = 30, \n",
        "             vmin = 0.42, vmax = 0.58, cmap = 'coolwarm_r')\n",
        "plt.axvline(50, c = 'Brown')\n",
        "plt.title('Cover 3 Zone')\n",
        "plt.xticks([30, 50, 70, 90], [-20, 0, 20, 40])\n",
        "plt.yticks([])\n",
        "\n",
        "plt.subplot(2,2,2)\n",
        "plt.contourf(xx, yy, df_covers[df_covers.coverage == 'Cover 1 Man'].z.sum() / len(df_covers[df_covers.coverage == 'Cover 1 Man']), levels = 30, \n",
        "             vmin = 0.42, vmax = 0.58, cmap = 'coolwarm_r')\n",
        "plt.axvline(50, c = 'Brown')\n",
        "plt.title('Cover 1 Man')\n",
        "plt.xticks([30, 50, 70, 90], [-20, 0, 20, 40])\n",
        "plt.yticks([])\n",
        "\n",
        "plt.subplot(2,2,3)\n",
        "plt.contourf(xx, yy, df_covers[df_covers.coverage == 'Cover 2 Zone'].z.sum() / len(df_covers[df_covers.coverage == 'Cover 2 Zone']), levels = 30, \n",
        "             vmin = 0.42, vmax = 0.58, cmap = 'coolwarm_r')\n",
        "plt.axvline(50, c = 'Brown')\n",
        "plt.title('Cover 2 Zone')\n",
        "plt.xticks([30, 50, 70, 90], [-20, 0, 20, 40])\n",
        "plt.yticks([])\n",
        "\n",
        "plt.subplot(2,2,4)\n",
        "plt.contourf(xx, yy, df_covers[df_covers.coverage == 'Cover 4 Zone'].z.sum() / len(df_covers[df_covers.coverage == 'Cover 4 Zone']), levels = 30, \n",
        "             vmin = 0.42, vmax = 0.58, cmap = 'coolwarm_r')\n",
        "plt.axvline(50, c = 'Brown')\n",
        "plt.title('Cover 4 Zone')\n",
        "plt.xticks([30, 50, 70, 90], [-20, 0, 20, 40])\n",
        "plt.yticks([])\n",
        "\n",
        "plt.show()"
      ],
      "execution_count": 24,
      "outputs": [
        {
          "output_type": "display_data",
          "data": {
            "image/png": "[encoded data removed]",
            "text/plain": [
              "<Figure size 1152x720 with 4 Axes>"
            ]
          },
          "metadata": {
            "tags": []
          }
        }
      ]
    },
    {
      "cell_type": "markdown",
      "metadata": {
        "id": "JctKzAnp-gTq"
      },
      "source": [
        "These were the four most commonly used coverage schemes from week 1 of the 2018 season. In general it looks like the zone defenses are good at defending the areas in the middle of the field(areas of solid red). However, it appears that they give up control of the short field (flat routes) as most of the areas near the line of scrimmage have more blue. By comparison, Cover 1 Man doesn't have as much control over the center (not as 'red') but they do not give up as much control over the line of scrimmage (not as 'blue'). If we take a closer look at Cover 2 Zone, we can also see that there is a clear weakness (blue patches) around both sidelines about 20 yards from the line of scrimmage. This is likely a result of having only 2 players cover so much real estate - the defense will have less influence over areas near the boundaries of the coverage zones.\n",
        "\n"
      ]
    },
    {
      "cell_type": "markdown",
      "metadata": {
        "id": "Na1DRHYcE78Q"
      },
      "source": [
        "In the future, teams can use their own coverage and tracking data to analyze how their defenses perform in various schemes. They'll be able to make adjustments and plug their weaknesses as they identify areas on the field that they do not have good influence over."
      ]
    }
  ]
}